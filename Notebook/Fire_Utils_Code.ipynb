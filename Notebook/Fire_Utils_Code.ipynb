{
 "cells": [
  {
   "cell_type": "code",
   "execution_count": 1,
   "id": "a1fd8c6f",
   "metadata": {},
   "outputs": [
    {
     "name": "stdout",
     "output_type": "stream",
     "text": [
      "Number of bands: 130\n",
      "Band names: ('pre_A00', 'pre_A01', 'pre_A02', 'pre_A03', 'pre_A04', 'pre_A05', 'pre_A06', 'pre_A07', 'pre_A08', 'pre_A09', 'pre_A10', 'pre_A11', 'pre_A12', 'pre_A13', 'pre_A14', 'pre_A15', 'pre_A16', 'pre_A17', 'pre_A18', 'pre_A19', 'pre_A20', 'pre_A21', 'pre_A22', 'pre_A23', 'pre_A24', 'pre_A25', 'pre_A26', 'pre_A27', 'pre_A28', 'pre_A29', 'pre_A30', 'pre_A31', 'pre_A32', 'pre_A33', 'pre_A34', 'pre_A35', 'pre_A36', 'pre_A37', 'pre_A38', 'pre_A39', 'pre_A40', 'pre_A41', 'pre_A42', 'pre_A43', 'pre_A44', 'pre_A45', 'pre_A46', 'pre_A47', 'pre_A48', 'pre_A49', 'pre_A50', 'pre_A51', 'pre_A52', 'pre_A53', 'pre_A54', 'pre_A55', 'pre_A56', 'pre_A57', 'pre_A58', 'pre_A59', 'pre_A60', 'pre_A61', 'pre_A62', 'pre_A63', 'post_A00', 'post_A01', 'post_A02', 'post_A03', 'post_A04', 'post_A05', 'post_A06', 'post_A07', 'post_A08', 'post_A09', 'post_A10', 'post_A11', 'post_A12', 'post_A13', 'post_A14', 'post_A15', 'post_A16', 'post_A17', 'post_A18', 'post_A19', 'post_A20', 'post_A21', 'post_A22', 'post_A23', 'post_A24', 'post_A25', 'post_A26', 'post_A27', 'post_A28', 'post_A29', 'post_A30', 'post_A31', 'post_A32', 'post_A33', 'post_A34', 'post_A35', 'post_A36', 'post_A37', 'post_A38', 'post_A39', 'post_A40', 'post_A41', 'post_A42', 'post_A43', 'post_A44', 'post_A45', 'post_A46', 'post_A47', 'post_A48', 'post_A49', 'post_A50', 'post_A51', 'post_A52', 'post_A53', 'post_A54', 'post_A55', 'post_A56', 'post_A57', 'post_A58', 'post_A59', 'post_A60', 'post_A61', 'post_A62', 'post_A63', 'emb_dot', 'emb_angle_deg')\n"
     ]
    }
   ],
   "source": [
    "import rasterio\n",
    "\n",
    "file_path = '/Users/ceedindia/Desktop/Fire/Data/GSE_Bandipur_Prediction_Band.tif'\n",
    "\n",
    "with rasterio.open(file_path) as src:\n",
    "    print(\"Number of bands:\", src.count)\n",
    "    print(\"Band names:\", src.descriptions if src.descriptions else [f\"Band_{i+1}\" for i in range(src.count)])\n"
   ]
  },
  {
   "cell_type": "code",
   "execution_count": 1,
   "id": "163899dd",
   "metadata": {},
   "outputs": [
    {
     "name": "stdout",
     "output_type": "stream",
     "text": [
      "Successfully created a new file without the first 64 bands: /Users/ceedindia/Desktop/Fire/Data/GSE_Bandipur_Prediction_Band_after64.tif\n"
     ]
    }
   ],
   "source": [
    "import rasterio\n",
    "\n",
    "input_path = '/Users/ceedindia/Desktop/Fire/Data/GSE_Bandipur_Prediction_Band.tif'\n",
    "output_path = '/Users/ceedindia/Desktop/Fire/Data/GSE_Bandipur_Prediction_Band_after64.tif'\n",
    "\n",
    "with rasterio.open(input_path) as src:\n",
    "    # Select bands after the first 64\n",
    "    bands_to_keep = list(range(65, src.count + 1))\n",
    "    profile = src.profile\n",
    "    profile.update(count=len(bands_to_keep))\n",
    "\n",
    "    with rasterio.open(output_path, 'w', **profile) as dst:\n",
    "        for new_idx, old_idx in enumerate(bands_to_keep, start=1):\n",
    "            dst.write(src.read(old_idx), new_idx)\n",
    "            if src.descriptions:\n",
    "                dst.set_band_description(new_idx, src.descriptions[old_idx - 1])\n",
    "\n",
    "print(\"Successfully created a new file without the first 64 bands:\", output_path)"
   ]
  },
  {
   "cell_type": "code",
   "execution_count": 2,
   "id": "d3743177",
   "metadata": {},
   "outputs": [
    {
     "name": "stdout",
     "output_type": "stream",
     "text": [
      "✅ QR code generated and saved as 'zoom_meeting_qr.png'\n"
     ]
    }
   ],
   "source": [
    "import qrcode\n",
    "\n",
    "# Zoom meeting registration link\n",
    "url = \"https://us06web.zoom.us/meeting/register/nbM87i9KSRePp5IpxPC9ZA\"\n",
    "\n",
    "# Create QR code\n",
    "qr = qrcode.QRCode(\n",
    "    version=1,  # Controls the size of the QR Code\n",
    "    error_correction=qrcode.constants.ERROR_CORRECT_L,  # Error correction level\n",
    "    box_size=10,  # Size of each box in pixels\n",
    "    border=4,  # Border size (minimum 4)\n",
    ")\n",
    "\n",
    "qr.add_data(url)\n",
    "qr.make(fit=True)\n",
    "\n",
    "# Generate and save the QR image\n",
    "img = qr.make_image(fill_color=\"black\", back_color=\"white\")\n",
    "img.save(\"/Users/ceedindia/Desktop/zoom_meeting_qr.png\")\n",
    "\n",
    "print(\"✅ QR code generated and saved as 'zoom_meeting_qr.png'\")"
   ]
  }
 ],
 "metadata": {
  "kernelspec": {
   "display_name": "Python 3",
   "language": "python",
   "name": "python3"
  },
  "language_info": {
   "codemirror_mode": {
    "name": "ipython",
    "version": 3
   },
   "file_extension": ".py",
   "mimetype": "text/x-python",
   "name": "python",
   "nbconvert_exporter": "python",
   "pygments_lexer": "ipython3",
   "version": "3.12.0"
  }
 },
 "nbformat": 4,
 "nbformat_minor": 5
}
